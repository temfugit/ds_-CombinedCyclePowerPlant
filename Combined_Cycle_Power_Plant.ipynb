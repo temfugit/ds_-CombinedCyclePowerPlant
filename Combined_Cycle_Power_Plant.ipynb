{
  "nbformat": 4,
  "nbformat_minor": 0,
  "metadata": {
    "colab": {
      "provenance": [],
      "authorship_tag": "ABX9TyOQ3rkWWDJpqhTXzvd+QaHn",
      "include_colab_link": true
    },
    "kernelspec": {
      "name": "python3",
      "display_name": "Python 3"
    },
    "language_info": {
      "name": "python"
    }
  },
  "cells": [
    {
      "cell_type": "markdown",
      "metadata": {
        "id": "view-in-github",
        "colab_type": "text"
      },
      "source": [
        "<a href=\"https://colab.research.google.com/github/temfugit/ds_-CombinedCyclePowerPlant/blob/main/Combined_Cycle_Power_Plant.ipynb\" target=\"_parent\"><img src=\"https://colab.research.google.com/assets/colab-badge.svg\" alt=\"Open In Colab\"/></a>"
      ]
    },
    {
      "cell_type": "code",
      "source": [
        "import pandas as pd\n",
        "import matplotlib.pyplot as plt\n",
        "import numpy as np\n",
        "from sklearn import linear_model\n",
        "from sklearn.metrics import mean_squared_error, r2_score"
      ],
      "metadata": {
        "id": "t5eUFQ5yZQQ8"
      },
      "execution_count": 50,
      "outputs": []
    },
    {
      "cell_type": "code",
      "source": [
        "url = \"https://storage.googleapis.com/aipi_datasets/CCPP_data.csv\"\n",
        "df = pd.read_csv(url)"
      ],
      "metadata": {
        "id": "Ac38TrFQZTCr"
      },
      "execution_count": 5,
      "outputs": []
    },
    {
      "cell_type": "code",
      "source": [
        "print(df.head)"
      ],
      "metadata": {
        "colab": {
          "base_uri": "https://localhost:8080/"
        },
        "id": "PpXTZkMDZnHS",
        "outputId": "4529ed56-ddc7-4092-c2f8-4d1eb7447cac"
      },
      "execution_count": 6,
      "outputs": [
        {
          "output_type": "stream",
          "name": "stdout",
          "text": [
            "<bound method NDFrame.head of          AT      V       AP     RH      PE\n",
            "0     14.96  41.76  1024.07  73.17  463.26\n",
            "1     25.18  62.96  1020.04  59.08  444.37\n",
            "2      5.11  39.40  1012.16  92.14  488.56\n",
            "3     20.86  57.32  1010.24  76.64  446.48\n",
            "4     10.82  37.50  1009.23  96.62  473.90\n",
            "...     ...    ...      ...    ...     ...\n",
            "9563  16.65  49.69  1014.01  91.00  460.03\n",
            "9564  13.19  39.18  1023.67  66.78  469.62\n",
            "9565  31.32  74.33  1012.92  36.48  429.57\n",
            "9566  24.48  69.45  1013.86  62.39  435.74\n",
            "9567  21.60  62.52  1017.23  67.87  453.28\n",
            "\n",
            "[9568 rows x 5 columns]>\n"
          ]
        }
      ]
    },
    {
      "cell_type": "code",
      "source": [
        "X = np.array(df[['AT', 'V', 'AP', 'RH']])\n",
        "Y = np.array(df['PE'])\n",
        "\n",
        "print('Average PE: ', np.mean(Y))"
      ],
      "metadata": {
        "colab": {
          "base_uri": "https://localhost:8080/"
        },
        "id": "ItmwaIw6aIWu",
        "outputId": "5699e8b4-bd2a-4091-ba58-db44829c6019"
      },
      "execution_count": 51,
      "outputs": [
        {
          "output_type": "stream",
          "name": "stdout",
          "text": [
            "Average PE:  454.36500940635455\n"
          ]
        }
      ]
    },
    {
      "cell_type": "code",
      "source": [
        "num_rows = len(df)\n",
        "num_rows"
      ],
      "metadata": {
        "colab": {
          "base_uri": "https://localhost:8080/"
        },
        "id": "mu_6lPyvaSHV",
        "outputId": "7f3f00d5-8174-4bf9-d29b-c9887202f52b"
      },
      "execution_count": 38,
      "outputs": [
        {
          "output_type": "execute_result",
          "data": {
            "text/plain": [
              "9568"
            ]
          },
          "metadata": {},
          "execution_count": 38
        }
      ]
    },
    {
      "cell_type": "code",
      "source": [
        "perc_train = 0.7\n",
        "nr_train = int(round(perc_train * num_rows))\n",
        "nr_test = num_rows - nr_train\n",
        "print('Training set: ', nr_train)\n",
        "print('Testing set: ', nr_test)\n",
        "\n",
        "X_train = X[:-nr_test, :]\n",
        "X_test = X[-nr_test:, :]\n",
        "Y_train = Y[:-nr_test]\n",
        "Y_test = Y[-nr_test:]\n",
        "\n",
        "print(X_train.shape)\n",
        "print(Y_train.shape)\n",
        "print(X_test.shape)\n",
        "print(Y_test.shape)"
      ],
      "metadata": {
        "colab": {
          "base_uri": "https://localhost:8080/"
        },
        "id": "NvbygeKTbkW9",
        "outputId": "00820c33-590f-47c2-d05d-9cd3534ce413"
      },
      "execution_count": 40,
      "outputs": [
        {
          "output_type": "stream",
          "name": "stdout",
          "text": [
            "Training set:  6698\n",
            "Testing set:  2870\n",
            "(6698, 4)\n",
            "(6698,)\n",
            "(2870, 4)\n",
            "(2870,)\n"
          ]
        }
      ]
    },
    {
      "cell_type": "code",
      "source": [
        "# Create linear regression object\n",
        "regr = linear_model.LinearRegression()\n",
        "\n",
        "# Train the model using the training sets\n",
        "regr.fit(X_train, Y_train)\n",
        "\n",
        "# The coefficients\n",
        "print(\"Coefficients: \\n\", regr.coef_)"
      ],
      "metadata": {
        "colab": {
          "base_uri": "https://localhost:8080/"
        },
        "id": "tTrxvJeHcDAS",
        "outputId": "2c1e5b17-3b77-434c-f804-4560db1fa824"
      },
      "execution_count": 44,
      "outputs": [
        {
          "output_type": "stream",
          "name": "stdout",
          "text": [
            "Coefficients: \n",
            " [-2.00429309 -0.22385283  0.06283447 -0.16703115]\n"
          ]
        }
      ]
    },
    {
      "cell_type": "code",
      "source": [
        "# Make predictions on the training and testing sets\n",
        "pred_Y_train = regr.predict(X_train)\n",
        "pred_Y_test = regr.predict(X_test)\n",
        "\n",
        "# The mean squared error\n",
        "print(\"Mean squared error (training): %.2f\" % mean_squared_error(Y_train, pred_Y_train))\n",
        "print(\"Mean squared error (testing): %.2f\" % mean_squared_error(Y_test, pred_Y_test))"
      ],
      "metadata": {
        "colab": {
          "base_uri": "https://localhost:8080/"
        },
        "id": "ckV9iPlOcfl9",
        "outputId": "6fd0d6e7-fc39-4f6d-f431-ccd8cb1c223e"
      },
      "execution_count": 47,
      "outputs": [
        {
          "output_type": "stream",
          "name": "stdout",
          "text": [
            "Mean squared error (training): 20.16\n",
            "Mean squared error (testing): 22.22\n"
          ]
        }
      ]
    },
    {
      "cell_type": "code",
      "source": [
        "p_train = 100 * mean_squared_error(Y_train, pred_Y_train) / float(np.mean(Y))\n",
        "print(\"Mean squared error (training): %.2f %%\" % p_train)\n",
        "\n",
        "p_test = 100 * mean_squared_error(Y_test, pred_Y_test) / float(np.mean(Y))\n",
        "print(\"Mean squared error (testing): %.2f %%\" % p_test)"
      ],
      "metadata": {
        "colab": {
          "base_uri": "https://localhost:8080/"
        },
        "id": "a4XBASmueiIB",
        "outputId": "76f0376e-aee9-40c7-c8d7-44b49cd8f52a"
      },
      "execution_count": 57,
      "outputs": [
        {
          "output_type": "stream",
          "name": "stdout",
          "text": [
            "Mean squared error (training): 4.44 %\n",
            "Mean squared error (testing): 4.89 %\n"
          ]
        }
      ]
    },
    {
      "cell_type": "code",
      "source": [
        "print(\"Coefficient of determination: %.2f\" % r2_score(Y_train, pred_Y_train))\n",
        "print(\"Coefficient of determination: %.2f\" % r2_score(Y_test, pred_Y_test))"
      ],
      "metadata": {
        "colab": {
          "base_uri": "https://localhost:8080/"
        },
        "id": "-K7T7NqQcqak",
        "outputId": "ae4a3dd5-b3dc-4ba9-d1cb-965cb3664ffe"
      },
      "execution_count": 58,
      "outputs": [
        {
          "output_type": "stream",
          "name": "stdout",
          "text": [
            "Coefficient of determination: 0.93\n",
            "Coefficient of determination: 0.92\n"
          ]
        }
      ]
    },
    {
      "cell_type": "code",
      "source": [],
      "metadata": {
        "id": "rXwp3nMMfmxe"
      },
      "execution_count": null,
      "outputs": []
    }
  ]
}